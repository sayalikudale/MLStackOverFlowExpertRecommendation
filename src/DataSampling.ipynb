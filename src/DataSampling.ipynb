{
 "cells": [
  {
   "cell_type": "markdown",
   "metadata": {},
   "source": [
    "## Author : Sayali Kudale"
   ]
  },
  {
   "cell_type": "markdown",
   "metadata": {},
   "source": [
    "### This File performs the data Sampling \n",
    "We have selected top 1000 frequently asked Tag's data and removed the least frequently asked questions from the data"
   ]
  },
  {
   "cell_type": "code",
   "execution_count": 2,
   "metadata": {
    "collapsed": false
   },
   "outputs": [],
   "source": [
    "import warnings\n",
    "warnings.filterwarnings(\"ignore\") \n",
    "\n",
    "import pandas as pd\n"
   ]
  },
  {
   "cell_type": "code",
   "execution_count": 3,
   "metadata": {
    "collapsed": true
   },
   "outputs": [],
   "source": [
    "df_questions = pd.read_csv(\"Data/CombinedALLData.csv\", encoding=\"ISO-8859-1\")"
   ]
  },
  {
   "cell_type": "code",
   "execution_count": 4,
   "metadata": {
    "collapsed": true
   },
   "outputs": [],
   "source": [
    "df_questions['Tags'] =  df_questions['Tags'].apply(lambda x: x.replace('<','').replace('>',' ')) \n",
    "\n",
    "df_questions['Tags']= df_questions.apply(lambda x: x.Tags.strip(' '),axis=1) \n"
   ]
  },
  {
   "cell_type": "code",
   "execution_count": 6,
   "metadata": {
    "collapsed": true
   },
   "outputs": [],
   "source": [
    "# value count will count the frequency of tags in a data\n",
    "frequentTagList=df_questions['Tags'].value_counts().index[:1000].tolist()\n",
    "\n",
    "df_questionsFrequent=df_questions[df_questions[\"Tags\"].isin(frequentTagList)]\n",
    "df_questionsFrequent[\"Body\"]=df_questionsFrequent[\"Body\"] + \" \" +df_questionsFrequent[\"Tags\"]"
   ]
  },
  {
   "cell_type": "code",
   "execution_count": 17,
   "metadata": {
    "collapsed": true
   },
   "outputs": [],
   "source": [
    "df_questionsFrequent.to_csv(\"Data/QuestionsFrequent.csv\", index = False)"
   ]
  },
  {
   "cell_type": "code",
   "execution_count": 6,
   "metadata": {
    "collapsed": false
   },
   "outputs": [
    {
     "name": "stdout",
     "output_type": "stream",
     "text": [
      "Total number of questions for further processing : 83156\n"
     ]
    }
   ],
   "source": [
    "print(\"Total number of questions for further processing :\" , len(df_questionsFrequent))"
   ]
  },
  {
   "cell_type": "code",
   "execution_count": 13,
   "metadata": {
    "collapsed": false,
    "scrolled": true
   },
   "outputs": [
    {
     "name": "stdout",
     "output_type": "stream",
     "text": [
      "Total number of unique answerers in a selected dataset : 24433\n"
     ]
    }
   ],
   "source": [
    "print(\"Total number of unique answerers in a selected dataset :\" , len(pd.unique(df_questionsFrequent['AnswerOwnerUserId']))) \n"
   ]
  }
 ],
 "metadata": {
  "anaconda-cloud": {},
  "kernelspec": {
   "display_name": "Python [default]",
   "language": "python",
   "name": "python3"
  },
  "language_info": {
   "codemirror_mode": {
    "name": "ipython",
    "version": 3
   },
   "file_extension": ".py",
   "mimetype": "text/x-python",
   "name": "python",
   "nbconvert_exporter": "python",
   "pygments_lexer": "ipython3",
   "version": "3.5.2"
  }
 },
 "nbformat": 4,
 "nbformat_minor": 1
}
