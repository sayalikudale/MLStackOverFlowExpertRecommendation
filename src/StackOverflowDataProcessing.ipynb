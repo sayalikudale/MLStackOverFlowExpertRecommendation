{
 "cells": [
  {
   "cell_type": "markdown",
   "metadata": {},
   "source": [
    "## Author : Sayali Kudale"
   ]
  },
  {
   "cell_type": "markdown",
   "metadata": {},
   "source": [
    "### This Notebook does the Data-Preprocessing activity"
   ]
  },
  {
   "cell_type": "code",
   "execution_count": 1,
   "metadata": {
    "collapsed": false
   },
   "outputs": [],
   "source": [
    "import warnings\n",
    "warnings.filterwarnings(\"ignore\") \n",
    "\n",
    "from bs4 import BeautifulSoup\n",
    "import html as ihtml\n",
    "import re\n",
    "import nltk\n",
    "from nltk.corpus import stopwords\n",
    "from string import punctuation\n",
    "from nltk.stem.wordnet import WordNetLemmatizer\n",
    "from nltk.tokenize import word_tokenize\n",
    "import pandas as pd\n",
    "from string import punctuation\n",
    "from nltk import word_tokenize, pos_tag"
   ]
  },
  {
   "cell_type": "code",
   "execution_count": 2,
   "metadata": {
    "collapsed": false
   },
   "outputs": [],
   "source": [
    "# Read CSV files to get questions and answers\n",
    "df_questions = pd.read_csv(\"Data/QuestionsFrequent.csv\", encoding=\"ISO-8859-1\")"
   ]
  },
  {
   "cell_type": "code",
   "execution_count": 3,
   "metadata": {
    "collapsed": false
   },
   "outputs": [
    {
     "data": {
      "text/plain": [
       "83156"
      ]
     },
     "execution_count": 3,
     "metadata": {},
     "output_type": "execute_result"
    }
   ],
   "source": [
    "len(df_questions)"
   ]
  },
  {
   "cell_type": "markdown",
   "metadata": {},
   "source": [
    "### Data before Preprocessing"
   ]
  },
  {
   "cell_type": "code",
   "execution_count": 4,
   "metadata": {
    "collapsed": false
   },
   "outputs": [
    {
     "data": {
      "text/html": [
       "<div>\n",
       "<table border=\"1\" class=\"dataframe\">\n",
       "  <thead>\n",
       "    <tr style=\"text-align: right;\">\n",
       "      <th></th>\n",
       "      <th>Id</th>\n",
       "      <th>Title</th>\n",
       "      <th>Body</th>\n",
       "      <th>Tags</th>\n",
       "      <th>CreationDate</th>\n",
       "      <th>Score</th>\n",
       "      <th>OwnerUserId</th>\n",
       "      <th>AcceptedAnswerId</th>\n",
       "      <th>AnswerOwnerUserId</th>\n",
       "      <th>AnswerCreationDate</th>\n",
       "      <th>AnswerScore</th>\n",
       "    </tr>\n",
       "  </thead>\n",
       "  <tbody>\n",
       "    <tr>\n",
       "      <th>0</th>\n",
       "      <td>59549471</td>\n",
       "      <td>Why a named function declaration isn't hoisted...</td>\n",
       "      <td>&lt;p&gt;is putting the function declaration beside ...</td>\n",
       "      <td>javascript</td>\n",
       "      <td>2020-01-01 01:27:00</td>\n",
       "      <td>1</td>\n",
       "      <td>9451225.0</td>\n",
       "      <td>59549481</td>\n",
       "      <td>9515207.0</td>\n",
       "      <td>2020-01-01 01:29:28</td>\n",
       "      <td>4</td>\n",
       "    </tr>\n",
       "    <tr>\n",
       "      <th>1</th>\n",
       "      <td>59549415</td>\n",
       "      <td>Alarm Manager not woking</td>\n",
       "      <td>&lt;p&gt;I am using AlarmManager on clicking floatin...</td>\n",
       "      <td>java android</td>\n",
       "      <td>2020-01-01 01:07:11</td>\n",
       "      <td>1</td>\n",
       "      <td>8552968.0</td>\n",
       "      <td>59549519</td>\n",
       "      <td>8012516.0</td>\n",
       "      <td>2020-01-01 01:42:03</td>\n",
       "      <td>3</td>\n",
       "    </tr>\n",
       "    <tr>\n",
       "      <th>2</th>\n",
       "      <td>59551132</td>\n",
       "      <td>how to stop service when click home button?</td>\n",
       "      <td>&lt;p&gt;I have a &lt;code&gt;SoundService&lt;/code&gt; for play...</td>\n",
       "      <td>android android-studio</td>\n",
       "      <td>2020-01-01 08:54:25</td>\n",
       "      <td>1</td>\n",
       "      <td>970404.0</td>\n",
       "      <td>59551203</td>\n",
       "      <td>12612238.0</td>\n",
       "      <td>2020-01-01 09:07:11</td>\n",
       "      <td>3</td>\n",
       "    </tr>\n",
       "    <tr>\n",
       "      <th>3</th>\n",
       "      <td>59551057</td>\n",
       "      <td>Copy attributes from case class</td>\n",
       "      <td>&lt;pre&gt;&lt;code&gt;case class A(a:Int ,b:Int,c:Int,d:I...</td>\n",
       "      <td>scala</td>\n",
       "      <td>2020-01-01 08:38:05</td>\n",
       "      <td>1</td>\n",
       "      <td>2845414.0</td>\n",
       "      <td>59551349</td>\n",
       "      <td>4993128.0</td>\n",
       "      <td>2020-01-01 09:34:35</td>\n",
       "      <td>3</td>\n",
       "    </tr>\n",
       "    <tr>\n",
       "      <th>4</th>\n",
       "      <td>59550793</td>\n",
       "      <td>combine multiple dataframes in a csv file sepa...</td>\n",
       "      <td>&lt;p&gt;how can I separate each dataframe with an e...</td>\n",
       "      <td>python pandas</td>\n",
       "      <td>2020-01-01 07:43:02</td>\n",
       "      <td>1</td>\n",
       "      <td>12225277.0</td>\n",
       "      <td>59550833</td>\n",
       "      <td>9840637.0</td>\n",
       "      <td>2020-01-01 07:50:45</td>\n",
       "      <td>4</td>\n",
       "    </tr>\n",
       "  </tbody>\n",
       "</table>\n",
       "</div>"
      ],
      "text/plain": [
       "         Id                                              Title  \\\n",
       "0  59549471  Why a named function declaration isn't hoisted...   \n",
       "1  59549415                           Alarm Manager not woking   \n",
       "2  59551132        how to stop service when click home button?   \n",
       "3  59551057                    Copy attributes from case class   \n",
       "4  59550793  combine multiple dataframes in a csv file sepa...   \n",
       "\n",
       "                                                Body                    Tags  \\\n",
       "0  <p>is putting the function declaration beside ...              javascript   \n",
       "1  <p>I am using AlarmManager on clicking floatin...            java android   \n",
       "2  <p>I have a <code>SoundService</code> for play...  android android-studio   \n",
       "3  <pre><code>case class A(a:Int ,b:Int,c:Int,d:I...                   scala   \n",
       "4  <p>how can I separate each dataframe with an e...           python pandas   \n",
       "\n",
       "          CreationDate  Score  OwnerUserId  AcceptedAnswerId  \\\n",
       "0  2020-01-01 01:27:00      1    9451225.0          59549481   \n",
       "1  2020-01-01 01:07:11      1    8552968.0          59549519   \n",
       "2  2020-01-01 08:54:25      1     970404.0          59551203   \n",
       "3  2020-01-01 08:38:05      1    2845414.0          59551349   \n",
       "4  2020-01-01 07:43:02      1   12225277.0          59550833   \n",
       "\n",
       "   AnswerOwnerUserId   AnswerCreationDate  AnswerScore  \n",
       "0          9515207.0  2020-01-01 01:29:28            4  \n",
       "1          8012516.0  2020-01-01 01:42:03            3  \n",
       "2         12612238.0  2020-01-01 09:07:11            3  \n",
       "3          4993128.0  2020-01-01 09:34:35            3  \n",
       "4          9840637.0  2020-01-01 07:50:45            4  "
      ]
     },
     "execution_count": 4,
     "metadata": {},
     "output_type": "execute_result"
    }
   ],
   "source": [
    "df_questions.head()"
   ]
  },
  {
   "cell_type": "markdown",
   "metadata": {},
   "source": [
    "### Check null and empty data "
   ]
  },
  {
   "cell_type": "code",
   "execution_count": 5,
   "metadata": {
    "collapsed": false,
    "scrolled": true
   },
   "outputs": [
    {
     "data": {
      "text/plain": [
       "Id                       0\n",
       "Title                    0\n",
       "Body                     0\n",
       "Tags                     0\n",
       "CreationDate             0\n",
       "Score                    0\n",
       "OwnerUserId           1333\n",
       "AcceptedAnswerId         0\n",
       "AnswerOwnerUserId      180\n",
       "AnswerCreationDate       0\n",
       "AnswerScore              0\n",
       "dtype: int64"
      ]
     },
     "execution_count": 5,
     "metadata": {},
     "output_type": "execute_result"
    }
   ],
   "source": [
    "df_questions.isnull().sum()"
   ]
  },
  {
   "cell_type": "code",
   "execution_count": 6,
   "metadata": {
    "collapsed": true
   },
   "outputs": [],
   "source": [
    "# deleting the ownerID null columns \n",
    "df_questions = df_questions[df_questions['OwnerUserId'].notnull()]\n",
    "df_questions = df_questions[df_questions['AnswerOwnerUserId'].notnull()]"
   ]
  },
  {
   "cell_type": "code",
   "execution_count": 7,
   "metadata": {
    "collapsed": false
   },
   "outputs": [
    {
     "data": {
      "text/plain": [
       "Id                    0\n",
       "Title                 0\n",
       "Body                  0\n",
       "Tags                  0\n",
       "CreationDate          0\n",
       "Score                 0\n",
       "OwnerUserId           0\n",
       "AcceptedAnswerId      0\n",
       "AnswerOwnerUserId     0\n",
       "AnswerCreationDate    0\n",
       "AnswerScore           0\n",
       "dtype: int64"
      ]
     },
     "execution_count": 7,
     "metadata": {},
     "output_type": "execute_result"
    }
   ],
   "source": [
    "df_questions.isnull().sum()"
   ]
  },
  {
   "cell_type": "markdown",
   "metadata": {},
   "source": [
    "### Total number of Questions after removing null data"
   ]
  },
  {
   "cell_type": "code",
   "execution_count": 8,
   "metadata": {
    "collapsed": false
   },
   "outputs": [
    {
     "data": {
      "text/plain": [
       "81678"
      ]
     },
     "execution_count": 8,
     "metadata": {},
     "output_type": "execute_result"
    }
   ],
   "source": [
    "len(df_questions)"
   ]
  },
  {
   "cell_type": "markdown",
   "metadata": {},
   "source": [
    "### Data PreProcessing function\n",
    "\n",
    "1. remove_punctuation : This function will remove all the punctuactions from the data. Punctuation library is used.\n",
    "2. special_tags : Special Tags such as C++, C#, .net are taken care before removing the special characters from the data\n",
    "3. extendedStopWords : Extended list of stopwords found via analysis (This list also contains some of the unnecessary words which are already taken care by the stoword removal and pos tagging. However, they are still retain to perform extra validation )\n",
    "4. clean_text : This function performs below activities:\n",
    "    1. space regularization \n",
    "    2. code block removal \n",
    "    3. html tags removal \n",
    "    4. hyperlinks removal \n",
    "    5. lowercasing the text\n",
    "    6. abbreviation removal\n",
    "    7. remove extra spacing \n",
    "    8. Pos Tagging and retaining only noun forms \n",
    "    9. Word lemmatization\n",
    "    "
   ]
  },
  {
   "cell_type": "code",
   "execution_count": 9,
   "metadata": {
    "collapsed": true
   },
   "outputs": [],
   "source": [
    "def remove_punctuation(s):\n",
    "    return ''.join(c for c in s if c not in punctuation)\n",
    "\n",
    "def special_tags(text):\n",
    "    text = re.sub(r\"c\\+\\+\", \"cplusplus\", text)\n",
    "    text = re.sub(r\"c\\#\", \"csharp\", text)\n",
    "    text = re.sub(r\"\\.net\", \"dotnet\", text)\n",
    "\n",
    "    return text\n",
    "\n",
    "def extendedStopWords(text):\n",
    "    extendedStopWords = ['code','please','thank','thanks','appreciate','fine','help','according', 'accordingly','write' ,'program','use',\n",
    "                         'cause','anyone','basic','allow','valid','within','answer','proper','across', 'act', 'asked','ask','success',\n",
    "                         'actually','need','would','like','tried','to','in','how','the','of','with','and','from','I','is','for',\n",
    "                         'an','on','want','can','way','say','said','says','seem','seems','when','not','do','Why','it','use','used','as',\n",
    "                         'Is','that','How','or','by','following','however','try','tried','trying','get','getting','problem','help','can',\n",
    "                         'could','issue','wrong','fine','run','also','know','example','see','based','find','something','thing','found',\n",
    "                         'treated','necessarily','work','working','worked','make','implemented','implement','another','one','two','differ',\n",
    "                         'different','depend','question','look','looked','understand','attempt','create','solution','possible','multiple', \n",
    "                         'able', 'even', 'check', 'hope', 'exist', 'someone', 'lot','case','perform','happen','option','achiev','via','got',\n",
    "                         'without','etc','idea','per','given','set','give','show','shown','using','use','expect','line','keep','advanced',\n",
    "                         'advance','connect','input','output','assign','take','always','syntax','similar','content','define','defined',\n",
    "                         'new','execute','executed','specified','started','added','generated','generate','supported','everything','well',\n",
    "                         'sure','fail','failed','failing','simple','task','require','available','inform','copy','copied','inside','default',\n",
    "                         'detailed','previous','previously','exact','project','current','currently','though','although','confuse','approached',\n",
    "                         'approach','since','really','student','department','employee']    \n",
    "    filtered= [w for w in str(text).split() if w not in extendedStopWords]\n",
    "    text=' '.join(map(str, filtered))\n",
    "    \n",
    "    return text\n",
    "        \n",
    "\n",
    "def clean_text(text):\n",
    "\n",
    "    #regularizing spacing\n",
    "    text = re.sub(r\"\\s+\", \" \", text)\n",
    "    #removing code blocks\n",
    "    text = re.sub(r'<code>.+?</code>', '', text)\n",
    "    #removing html\n",
    "    text = BeautifulSoup(ihtml.unescape(text), \"lxml\").text \n",
    "    #removing hyperlinks \n",
    "    text = re.sub(r\"http[s]?://\\S+\", \"\", text)\n",
    "    \n",
    "    #lowercase the text\n",
    "    text = text.lower()\n",
    "    \n",
    "\n",
    "    #remove the abbereviation\n",
    "    text = re.sub(r\"what's\", \"what is \", text)\n",
    "    text = re.sub(r\"\\'s\", \" \", text)\n",
    "    text = re.sub(r\"\\'ve\", \" have \", text)\n",
    "    text = re.sub(r\"can't\", \"can not \", text)\n",
    "    text = re.sub(r\"n't\", \" not \", text)\n",
    "    text = re.sub(r\"i'm\", \"i am \", text)\n",
    "    text = re.sub(r\"\\'re\", \" are \", text)\n",
    "    text = re.sub(r\"\\'d\", \" would \", text)\n",
    "    text = re.sub(r\"\\'ll\", \" will \", text)\n",
    "    text = re.sub(r\"\\'scuse\", \" excuse \", text)\n",
    "    text = re.sub(r\"\\'\\n\", \" \", text)\n",
    "    text = re.sub(r\"\\'\\xa0\", \" \", text)\n",
    "    text = re.sub('\\s+', ' ', text)\n",
    "    text = text.strip(' ')\n",
    "    \n",
    "    #take care of the tags such as c++,c#     \n",
    "    text=special_tags(text)\n",
    "\n",
    "    #remove punctuations \n",
    "    text= remove_punctuation(text)\n",
    "    # remove extra spaces\n",
    "    text = re.sub(' +',' ',text)\n",
    "    \n",
    "    #remove stop words\n",
    "    \n",
    "    filtered= [w for w in text.split() if w not in stop_words]\n",
    "    text=' '.join(map(str, filtered))\n",
    "    \n",
    "    text =' '.join( [token for token, pos in pos_tag(word_tokenize(text)) if pos.startswith('N')])\n",
    "    \n",
    "    text=extendedStopWords(text)\n",
    "    #Lemmatization\n",
    "    tokens = nltk.word_tokenize(text)\n",
    "    text = ' '.join([lemma.lemmatize(w) for w in tokens])\n",
    "    \n",
    "    \n",
    "    return text\n",
    "\n",
    "\n",
    "lemma=WordNetLemmatizer()\n",
    "\n",
    "stop_words = set(stopwords.words(\"english\"))"
   ]
  },
  {
   "cell_type": "markdown",
   "metadata": {},
   "source": [
    "#### Clean the body column data"
   ]
  },
  {
   "cell_type": "code",
   "execution_count": 10,
   "metadata": {
    "collapsed": false
   },
   "outputs": [],
   "source": [
    "df_questions['Body'] = df_questions['Body'].apply(lambda x: clean_text(x)) "
   ]
  },
  {
   "cell_type": "markdown",
   "metadata": {},
   "source": [
    "#### Clean the Title  column data"
   ]
  },
  {
   "cell_type": "code",
   "execution_count": 11,
   "metadata": {
    "collapsed": false
   },
   "outputs": [],
   "source": [
    "df_questions['Title'] = df_questions['Title'].apply(lambda x: clean_text(x)) "
   ]
  },
  {
   "cell_type": "code",
   "execution_count": 12,
   "metadata": {
    "collapsed": true
   },
   "outputs": [],
   "source": [
    "#converting float column to int\n",
    "df_questions[\"OwnerUserId\"] = df_questions[\"OwnerUserId\"].astype(int)\n",
    "df_questions[\"AnswerOwnerUserId\"] = df_questions[\"AnswerOwnerUserId\"].astype(int)"
   ]
  },
  {
   "cell_type": "markdown",
   "metadata": {},
   "source": [
    "#### data processing on tag column"
   ]
  },
  {
   "cell_type": "code",
   "execution_count": 13,
   "metadata": {
    "collapsed": true
   },
   "outputs": [],
   "source": [
    "# remove the < > in tags \n",
    "\n",
    "df_questions['Tags'] =  df_questions['Tags'].apply(lambda x: x.replace('<','').replace('>',' ')) \n",
    "\n",
    "df_questions['Tags'] =  df_questions['Tags'].apply(lambda x: special_tags(x)) \n",
    "\n"
   ]
  },
  {
   "cell_type": "markdown",
   "metadata": {},
   "source": [
    "#### Combine Body and Title as single column as QuestionText"
   ]
  },
  {
   "cell_type": "code",
   "execution_count": 14,
   "metadata": {
    "collapsed": true
   },
   "outputs": [],
   "source": [
    "df_questions[\"QuestionText\"] = df_questions[\"Title\"] +\" \" +df_questions[\"Body\"] "
   ]
  },
  {
   "cell_type": "markdown",
   "metadata": {},
   "source": [
    "#### Remove the unnecessary columns from the data"
   ]
  },
  {
   "cell_type": "code",
   "execution_count": 15,
   "metadata": {
    "collapsed": true
   },
   "outputs": [],
   "source": [
    "df_questions=df_questions.drop([\"Score\",\"OwnerUserId\",\"Body\",\"Title\"],axis=1)\n"
   ]
  },
  {
   "cell_type": "markdown",
   "metadata": {},
   "source": [
    "#### Visualization of the clean data "
   ]
  },
  {
   "cell_type": "code",
   "execution_count": 16,
   "metadata": {
    "collapsed": false
   },
   "outputs": [
    {
     "data": {
      "text/html": [
       "<div>\n",
       "<table border=\"1\" class=\"dataframe\">\n",
       "  <thead>\n",
       "    <tr style=\"text-align: right;\">\n",
       "      <th></th>\n",
       "      <th>Id</th>\n",
       "      <th>Tags</th>\n",
       "      <th>CreationDate</th>\n",
       "      <th>AcceptedAnswerId</th>\n",
       "      <th>AnswerOwnerUserId</th>\n",
       "      <th>AnswerCreationDate</th>\n",
       "      <th>AnswerScore</th>\n",
       "      <th>QuestionText</th>\n",
       "    </tr>\n",
       "  </thead>\n",
       "  <tbody>\n",
       "    <tr>\n",
       "      <th>0</th>\n",
       "      <td>59549471</td>\n",
       "      <td>javascript</td>\n",
       "      <td>2020-01-01 01:27:00</td>\n",
       "      <td>59549481</td>\n",
       "      <td>9515207</td>\n",
       "      <td>2020-01-01 01:29:28</td>\n",
       "      <td>4</td>\n",
       "      <td>function declaration statement function declar...</td>\n",
       "    </tr>\n",
       "    <tr>\n",
       "      <th>1</th>\n",
       "      <td>59549415</td>\n",
       "      <td>java android</td>\n",
       "      <td>2020-01-01 01:07:11</td>\n",
       "      <td>59549519</td>\n",
       "      <td>8012516</td>\n",
       "      <td>2020-01-01 01:42:03</td>\n",
       "      <td>3</td>\n",
       "      <td>alarm manager alarmmanager floatingactionbutto...</td>\n",
       "    </tr>\n",
       "    <tr>\n",
       "      <th>2</th>\n",
       "      <td>59551132</td>\n",
       "      <td>android android-studio</td>\n",
       "      <td>2020-01-01 08:54:25</td>\n",
       "      <td>59551203</td>\n",
       "      <td>12612238</td>\n",
       "      <td>2020-01-01 09:07:11</td>\n",
       "      <td>3</td>\n",
       "      <td>service click home button play sound load star...</td>\n",
       "    </tr>\n",
       "    <tr>\n",
       "      <th>3</th>\n",
       "      <td>59551057</td>\n",
       "      <td>scala</td>\n",
       "      <td>2020-01-01 08:38:05</td>\n",
       "      <td>59551349</td>\n",
       "      <td>4993128</td>\n",
       "      <td>2020-01-01 09:34:35</td>\n",
       "      <td>3</td>\n",
       "      <td>class class object b scala</td>\n",
       "    </tr>\n",
       "    <tr>\n",
       "      <th>4</th>\n",
       "      <td>59550793</td>\n",
       "      <td>python pandas</td>\n",
       "      <td>2020-01-01 07:43:02</td>\n",
       "      <td>59550833</td>\n",
       "      <td>9840637</td>\n",
       "      <td>2020-01-01 07:50:45</td>\n",
       "      <td>4</td>\n",
       "      <td>combine dataframes file row dataframe row ive ...</td>\n",
       "    </tr>\n",
       "  </tbody>\n",
       "</table>\n",
       "</div>"
      ],
      "text/plain": [
       "         Id                    Tags         CreationDate  AcceptedAnswerId  \\\n",
       "0  59549471              javascript  2020-01-01 01:27:00          59549481   \n",
       "1  59549415            java android  2020-01-01 01:07:11          59549519   \n",
       "2  59551132  android android-studio  2020-01-01 08:54:25          59551203   \n",
       "3  59551057                   scala  2020-01-01 08:38:05          59551349   \n",
       "4  59550793           python pandas  2020-01-01 07:43:02          59550833   \n",
       "\n",
       "   AnswerOwnerUserId   AnswerCreationDate  AnswerScore  \\\n",
       "0            9515207  2020-01-01 01:29:28            4   \n",
       "1            8012516  2020-01-01 01:42:03            3   \n",
       "2           12612238  2020-01-01 09:07:11            3   \n",
       "3            4993128  2020-01-01 09:34:35            3   \n",
       "4            9840637  2020-01-01 07:50:45            4   \n",
       "\n",
       "                                        QuestionText  \n",
       "0  function declaration statement function declar...  \n",
       "1  alarm manager alarmmanager floatingactionbutto...  \n",
       "2  service click home button play sound load star...  \n",
       "3                         class class object b scala  \n",
       "4  combine dataframes file row dataframe row ive ...  "
      ]
     },
     "execution_count": 16,
     "metadata": {},
     "output_type": "execute_result"
    }
   ],
   "source": [
    "df_questions.head()"
   ]
  },
  {
   "cell_type": "code",
   "execution_count": 17,
   "metadata": {
    "collapsed": false
   },
   "outputs": [
    {
     "data": {
      "text/plain": [
       "'service click home button play sound load start service splashactivity service button callback mainactivity service home button activity android androidstudio'"
      ]
     },
     "execution_count": 17,
     "metadata": {},
     "output_type": "execute_result"
    }
   ],
   "source": [
    "df_questions[\"QuestionText\"].iloc[2]"
   ]
  },
  {
   "cell_type": "code",
   "execution_count": 18,
   "metadata": {
    "collapsed": true
   },
   "outputs": [],
   "source": [
    "# save the processed data into  file \n",
    "df_questions.to_csv(\"Data/SO_ProcessedData.csv\", index=False)"
   ]
  }
 ],
 "metadata": {
  "anaconda-cloud": {},
  "kernelspec": {
   "display_name": "Python [default]",
   "language": "python",
   "name": "python3"
  },
  "language_info": {
   "codemirror_mode": {
    "name": "ipython",
    "version": 3
   },
   "file_extension": ".py",
   "mimetype": "text/x-python",
   "name": "python",
   "nbconvert_exporter": "python",
   "pygments_lexer": "ipython3",
   "version": "3.5.2"
  }
 },
 "nbformat": 4,
 "nbformat_minor": 1
}
