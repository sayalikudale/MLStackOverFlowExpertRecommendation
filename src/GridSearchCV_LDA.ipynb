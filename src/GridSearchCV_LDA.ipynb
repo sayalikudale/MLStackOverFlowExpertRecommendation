{
 "cells": [
  {
   "cell_type": "markdown",
   "metadata": {},
   "source": [
    "## Author : Sayali Kudale"
   ]
  },
  {
   "cell_type": "markdown",
   "metadata": {},
   "source": [
    "#### This Notebook is the implementation of GridSearchCV to find out the optimal number of topics for LDA algorithm"
   ]
  },
  {
   "cell_type": "code",
   "execution_count": 1,
   "metadata": {
    "collapsed": true
   },
   "outputs": [],
   "source": [
    "# load the required libraries\n",
    "import warnings\n",
    "warnings.filterwarnings(\"ignore\") \n",
    "\n",
    "from sklearn.decomposition import LatentDirichletAllocation\n",
    "from sklearn.feature_extraction.text import TfidfVectorizer\n",
    "from sklearn.model_selection import GridSearchCV\n",
    "import pandas as pd\n",
    "import numpy as np"
   ]
  },
  {
   "cell_type": "code",
   "execution_count": 2,
   "metadata": {
    "collapsed": true
   },
   "outputs": [],
   "source": [
    "# load the dataset\n",
    "df_questionsAllData = pd.read_csv(\"Data/SO_ProcessedData.csv\", encoding=\"ISO-8859-1\")"
   ]
  },
  {
   "cell_type": "code",
   "execution_count": 3,
   "metadata": {
    "collapsed": true
   },
   "outputs": [],
   "source": [
    "vectorizer = TfidfVectorizer(stop_words = \"english\")"
   ]
  },
  {
   "cell_type": "code",
   "execution_count": 4,
   "metadata": {
    "collapsed": true
   },
   "outputs": [],
   "source": [
    "def TfidVectorization(data):\n",
    "    vec = vectorizer.fit(data)   \n",
    "    vectorized = vec.transform(data)\n",
    "    return vec, vectorized\n",
    " "
   ]
  },
  {
   "cell_type": "code",
   "execution_count": 5,
   "metadata": {
    "collapsed": false
   },
   "outputs": [],
   "source": [
    "vec, qstnData = TfidVectorization(df_questionsAllData[\"QuestionText\"].values.astype('U'))\n"
   ]
  },
  {
   "cell_type": "markdown",
   "metadata": {},
   "source": [
    "### GridSearchCV "
   ]
  },
  {
   "cell_type": "code",
   "execution_count": 6,
   "metadata": {
    "collapsed": false,
    "scrolled": true
   },
   "outputs": [
    {
     "name": "stdout",
     "output_type": "stream",
     "text": [
      "Fitting 3 folds for each of 18 candidates, totalling 54 fits\n"
     ]
    },
    {
     "name": "stderr",
     "output_type": "stream",
     "text": [
      "[Parallel(n_jobs=-1)]: Using backend LokyBackend with 4 concurrent workers.\n",
      "[Parallel(n_jobs=-1)]: Done   1 tasks      | elapsed:  8.3min\n",
      "[Parallel(n_jobs=-1)]: Done   2 tasks      | elapsed:  8.8min\n",
      "[Parallel(n_jobs=-1)]: Done   3 tasks      | elapsed:  8.9min\n",
      "[Parallel(n_jobs=-1)]: Done   4 tasks      | elapsed:  9.1min\n",
      "[Parallel(n_jobs=-1)]: Done   5 tasks      | elapsed: 18.7min\n",
      "[Parallel(n_jobs=-1)]: Done   6 tasks      | elapsed: 19.1min\n",
      "[Parallel(n_jobs=-1)]: Done   7 tasks      | elapsed: 19.1min\n",
      "[Parallel(n_jobs=-1)]: Done   8 tasks      | elapsed: 19.4min\n",
      "[Parallel(n_jobs=-1)]: Done   9 tasks      | elapsed: 27.2min\n",
      "[Parallel(n_jobs=-1)]: Done  10 tasks      | elapsed: 27.6min\n",
      "[Parallel(n_jobs=-1)]: Done  11 tasks      | elapsed: 27.7min\n",
      "[Parallel(n_jobs=-1)]: Done  12 tasks      | elapsed: 27.8min\n",
      "[Parallel(n_jobs=-1)]: Done  13 tasks      | elapsed: 36.0min\n",
      "[Parallel(n_jobs=-1)]: Done  14 tasks      | elapsed: 36.5min\n",
      "[Parallel(n_jobs=-1)]: Done  15 tasks      | elapsed: 36.5min\n",
      "[Parallel(n_jobs=-1)]: Done  16 tasks      | elapsed: 36.9min\n",
      "[Parallel(n_jobs=-1)]: Done  17 tasks      | elapsed: 45.1min\n",
      "[Parallel(n_jobs=-1)]: Done  18 tasks      | elapsed: 45.6min\n",
      "[Parallel(n_jobs=-1)]: Done  19 tasks      | elapsed: 45.8min\n",
      "[Parallel(n_jobs=-1)]: Done  20 tasks      | elapsed: 46.3min\n",
      "[Parallel(n_jobs=-1)]: Done  21 tasks      | elapsed: 54.6min\n",
      "[Parallel(n_jobs=-1)]: Done  22 tasks      | elapsed: 55.0min\n",
      "[Parallel(n_jobs=-1)]: Done  23 tasks      | elapsed: 55.1min\n",
      "[Parallel(n_jobs=-1)]: Done  24 tasks      | elapsed: 55.7min\n",
      "[Parallel(n_jobs=-1)]: Done  25 tasks      | elapsed: 62.5min\n",
      "[Parallel(n_jobs=-1)]: Done  26 tasks      | elapsed: 63.0min\n",
      "[Parallel(n_jobs=-1)]: Done  27 tasks      | elapsed: 63.0min\n",
      "[Parallel(n_jobs=-1)]: Done  28 tasks      | elapsed: 63.4min\n",
      "[Parallel(n_jobs=-1)]: Done  29 tasks      | elapsed: 70.6min\n",
      "[Parallel(n_jobs=-1)]: Done  30 tasks      | elapsed: 71.1min\n",
      "[Parallel(n_jobs=-1)]: Done  31 tasks      | elapsed: 71.5min\n",
      "[Parallel(n_jobs=-1)]: Done  32 tasks      | elapsed: 72.2min\n",
      "[Parallel(n_jobs=-1)]: Done  33 tasks      | elapsed: 78.5min\n",
      "[Parallel(n_jobs=-1)]: Done  34 tasks      | elapsed: 79.1min\n",
      "[Parallel(n_jobs=-1)]: Done  35 tasks      | elapsed: 79.3min\n",
      "[Parallel(n_jobs=-1)]: Done  36 tasks      | elapsed: 79.6min\n",
      "[Parallel(n_jobs=-1)]: Done  37 tasks      | elapsed: 85.5min\n",
      "[Parallel(n_jobs=-1)]: Done  38 tasks      | elapsed: 86.2min\n",
      "[Parallel(n_jobs=-1)]: Done  39 tasks      | elapsed: 86.4min\n",
      "[Parallel(n_jobs=-1)]: Done  40 tasks      | elapsed: 86.4min\n",
      "[Parallel(n_jobs=-1)]: Done  41 tasks      | elapsed: 91.8min\n",
      "[Parallel(n_jobs=-1)]: Done  42 tasks      | elapsed: 92.6min\n",
      "[Parallel(n_jobs=-1)]: Done  43 tasks      | elapsed: 92.7min\n",
      "[Parallel(n_jobs=-1)]: Done  44 tasks      | elapsed: 92.8min\n",
      "[Parallel(n_jobs=-1)]: Done  45 tasks      | elapsed: 97.9min\n",
      "[Parallel(n_jobs=-1)]: Done  46 tasks      | elapsed: 98.7min\n",
      "[Parallel(n_jobs=-1)]: Done  47 tasks      | elapsed: 98.8min\n",
      "[Parallel(n_jobs=-1)]: Done  49 out of  54 | elapsed: 104.0min remaining: 10.6min\n",
      "[Parallel(n_jobs=-1)]: Done  51 out of  54 | elapsed: 104.9min remaining:  6.2min\n",
      "[Parallel(n_jobs=-1)]: Done  54 out of  54 | elapsed: 108.4min finished\n"
     ]
    },
    {
     "name": "stdout",
     "output_type": "stream",
     "text": [
      "Best Model's Params:  {'learning_decay': 0.5, 'n_components': 10}\n",
      "Best Log Likelihood Score:  -886343.648146\n",
      "Model perplexity:  11976.9232134\n"
     ]
    }
   ],
   "source": [
    "\n",
    "search_params = {\n",
    "  'n_components': [10, 20, 25, 30,35,40],\n",
    "  'learning_decay': [.5, .7,0.9]\n",
    "}\n",
    "\n",
    "model = LatentDirichletAllocation()\n",
    "gridsearch = GridSearchCV(model, param_grid=search_params, n_jobs=-1, verbose=36)\n",
    "gridsearch.fit(qstnData)\n",
    "best_lda_model = gridsearch.best_estimator_\n",
    "print(\"Best Model's Params: \", gridsearch.best_params_)\n",
    "print(\"Best Log Likelihood Score: \", gridsearch.best_score_)\n",
    "print(\"Model perplexity: \", best_lda_model.perplexity(qstnData))"
   ]
  },
  {
   "cell_type": "code",
   "execution_count": null,
   "metadata": {
    "collapsed": true
   },
   "outputs": [],
   "source": []
  },
  {
   "cell_type": "markdown",
   "metadata": {},
   "source": [
    "#### Save the results of grid model into the csv file for reference and Create a dataframe which will be used to plot the graph"
   ]
  },
  {
   "cell_type": "code",
   "execution_count": 7,
   "metadata": {
    "collapsed": false
   },
   "outputs": [],
   "source": [
    "df_cv_results = pd.DataFrame(gridsearch.cv_results_)\n",
    "df_cv_results.to_csv(\"LDAGridSearchResults.csv\", header=True, index=False, encoding='utf-8')"
   ]
  },
  {
   "cell_type": "markdown",
   "metadata": {},
   "source": [
    "#### Plot the cv_results_ to visualise it in the graph"
   ]
  },
  {
   "cell_type": "code",
   "execution_count": 8,
   "metadata": {
    "collapsed": false
   },
   "outputs": [
    {
     "data": {
      "text/plain": [
       "<matplotlib.axes._subplots.AxesSubplot at 0x1a211aa390>"
      ]
     },
     "execution_count": 8,
     "metadata": {},
     "output_type": "execute_result"
    }
   ],
   "source": [
    "import seaborn as sns\n",
    "sns.pointplot(x=\"param_n_components\", y=\"mean_test_score\", hue=\"param_learning_decay\", data=df_cv_results)"
   ]
  },
  {
   "cell_type": "code",
   "execution_count": 9,
   "metadata": {
    "collapsed": false
   },
   "outputs": [
    {
     "data": {
      "image/png": "[encoded data removed]",
      "text/plain": [
       "<matplotlib.figure.Figure at 0x1064f5780>"
      ]
     },
     "metadata": {},
     "output_type": "display_data"
    }
   ],
   "source": [
    "import matplotlib.pyplot as plt\n",
    "plt.show()"
   ]
  },
  {
   "cell_type": "code",
   "execution_count": null,
   "metadata": {
    "collapsed": true
   },
   "outputs": [],
   "source": []
  }
 ],
 "metadata": {
  "anaconda-cloud": {},
  "kernelspec": {
   "display_name": "Python [default]",
   "language": "python",
   "name": "python3"
  },
  "language_info": {
   "codemirror_mode": {
    "name": "ipython",
    "version": 3
   },
   "file_extension": ".py",
   "mimetype": "text/x-python",
   "name": "python",
   "nbconvert_exporter": "python",
   "pygments_lexer": "ipython3",
   "version": "3.5.2"
  }
 },
 "nbformat": 4,
 "nbformat_minor": 1
}
